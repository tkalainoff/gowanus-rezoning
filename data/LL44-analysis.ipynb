{
 "cells": [
  {
   "cell_type": "code",
   "execution_count": 1,
   "id": "8f09e2ba",
   "metadata": {},
   "outputs": [],
   "source": [
    "import pandas as pd"
   ]
  },
  {
   "cell_type": "code",
   "execution_count": 10,
   "id": "de878555",
   "metadata": {},
   "outputs": [],
   "source": [
    "LL44_rent_affordability = pd.read_csv('csv/Local_Law_44_-_Rent_Affordability_20240115.csv')"
   ]
  },
  {
   "cell_type": "code",
   "execution_count": 11,
   "id": "a87d8470",
   "metadata": {},
   "outputs": [
    {
     "data": {
      "text/html": [
       "<div>\n",
       "<style scoped>\n",
       "    .dataframe tbody tr th:only-of-type {\n",
       "        vertical-align: middle;\n",
       "    }\n",
       "\n",
       "    .dataframe tbody tr th {\n",
       "        vertical-align: top;\n",
       "    }\n",
       "\n",
       "    .dataframe thead th {\n",
       "        text-align: right;\n",
       "    }\n",
       "</style>\n",
       "<table border=\"1\" class=\"dataframe\">\n",
       "  <thead>\n",
       "    <tr style=\"text-align: right;\">\n",
       "      <th></th>\n",
       "      <th>ProjectID</th>\n",
       "      <th>BuildingID</th>\n",
       "      <th>AffordabilityBand</th>\n",
       "      <th>TotalUnits</th>\n",
       "    </tr>\n",
       "  </thead>\n",
       "  <tbody>\n",
       "    <tr>\n",
       "      <th>0</th>\n",
       "      <td>44218</td>\n",
       "      <td>987329.0</td>\n",
       "      <td>Low Income</td>\n",
       "      <td>101</td>\n",
       "    </tr>\n",
       "    <tr>\n",
       "      <th>1</th>\n",
       "      <td>44218</td>\n",
       "      <td>987329.0</td>\n",
       "      <td>Middle Income</td>\n",
       "      <td>200</td>\n",
       "    </tr>\n",
       "    <tr>\n",
       "      <th>2</th>\n",
       "      <td>44218</td>\n",
       "      <td>987329.0</td>\n",
       "      <td>Other</td>\n",
       "      <td>2</td>\n",
       "    </tr>\n",
       "    <tr>\n",
       "      <th>3</th>\n",
       "      <td>44218</td>\n",
       "      <td>987329.0</td>\n",
       "      <td>Very Low Income</td>\n",
       "      <td>101</td>\n",
       "    </tr>\n",
       "    <tr>\n",
       "      <th>4</th>\n",
       "      <td>44223</td>\n",
       "      <td>969695.0</td>\n",
       "      <td>Middle Income</td>\n",
       "      <td>6</td>\n",
       "    </tr>\n",
       "  </tbody>\n",
       "</table>\n",
       "</div>"
      ],
      "text/plain": [
       "   ProjectID  BuildingID AffordabilityBand  TotalUnits\n",
       "0      44218    987329.0        Low Income         101\n",
       "1      44218    987329.0     Middle Income         200\n",
       "2      44218    987329.0             Other           2\n",
       "3      44218    987329.0   Very Low Income         101\n",
       "4      44223    969695.0     Middle Income           6"
      ]
     },
     "execution_count": 11,
     "metadata": {},
     "output_type": "execute_result"
    }
   ],
   "source": [
    "LL44_rent_affordability.head()"
   ]
  },
  {
   "cell_type": "code",
   "execution_count": 12,
   "id": "2d9f589d",
   "metadata": {},
   "outputs": [
    {
     "data": {
      "text/html": [
       "<div>\n",
       "<style scoped>\n",
       "    .dataframe tbody tr th:only-of-type {\n",
       "        vertical-align: middle;\n",
       "    }\n",
       "\n",
       "    .dataframe tbody tr th {\n",
       "        vertical-align: top;\n",
       "    }\n",
       "\n",
       "    .dataframe thead th {\n",
       "        text-align: right;\n",
       "    }\n",
       "</style>\n",
       "<table border=\"1\" class=\"dataframe\">\n",
       "  <thead>\n",
       "    <tr style=\"text-align: right;\">\n",
       "      <th></th>\n",
       "      <th>ProjectID</th>\n",
       "      <th>BuildingID</th>\n",
       "      <th>TotalUnits</th>\n",
       "    </tr>\n",
       "  </thead>\n",
       "  <tbody>\n",
       "    <tr>\n",
       "      <th>count</th>\n",
       "      <td>6420.000000</td>\n",
       "      <td>6.393000e+03</td>\n",
       "      <td>6420.000000</td>\n",
       "    </tr>\n",
       "    <tr>\n",
       "      <th>mean</th>\n",
       "      <td>58696.791121</td>\n",
       "      <td>4.514961e+05</td>\n",
       "      <td>26.329128</td>\n",
       "    </tr>\n",
       "    <tr>\n",
       "      <th>std</th>\n",
       "      <td>7908.112566</td>\n",
       "      <td>3.984601e+05</td>\n",
       "      <td>55.232463</td>\n",
       "    </tr>\n",
       "    <tr>\n",
       "      <th>min</th>\n",
       "      <td>44218.000000</td>\n",
       "      <td>3.750000e+02</td>\n",
       "      <td>1.000000</td>\n",
       "    </tr>\n",
       "    <tr>\n",
       "      <th>25%</th>\n",
       "      <td>51300.750000</td>\n",
       "      <td>6.490100e+04</td>\n",
       "      <td>2.000000</td>\n",
       "    </tr>\n",
       "    <tr>\n",
       "      <th>50%</th>\n",
       "      <td>58864.000000</td>\n",
       "      <td>3.264700e+05</td>\n",
       "      <td>6.000000</td>\n",
       "    </tr>\n",
       "    <tr>\n",
       "      <th>75%</th>\n",
       "      <td>66670.000000</td>\n",
       "      <td>9.481780e+05</td>\n",
       "      <td>23.000000</td>\n",
       "    </tr>\n",
       "    <tr>\n",
       "      <th>max</th>\n",
       "      <td>72160.000000</td>\n",
       "      <td>1.007121e+06</td>\n",
       "      <td>1093.000000</td>\n",
       "    </tr>\n",
       "  </tbody>\n",
       "</table>\n",
       "</div>"
      ],
      "text/plain": [
       "          ProjectID    BuildingID   TotalUnits\n",
       "count   6420.000000  6.393000e+03  6420.000000\n",
       "mean   58696.791121  4.514961e+05    26.329128\n",
       "std     7908.112566  3.984601e+05    55.232463\n",
       "min    44218.000000  3.750000e+02     1.000000\n",
       "25%    51300.750000  6.490100e+04     2.000000\n",
       "50%    58864.000000  3.264700e+05     6.000000\n",
       "75%    66670.000000  9.481780e+05    23.000000\n",
       "max    72160.000000  1.007121e+06  1093.000000"
      ]
     },
     "execution_count": 12,
     "metadata": {},
     "output_type": "execute_result"
    }
   ],
   "source": [
    "LL44_rent_affordability.describe()"
   ]
  },
  {
   "cell_type": "code",
   "execution_count": 13,
   "id": "a02396b8",
   "metadata": {},
   "outputs": [
    {
     "name": "stdout",
     "output_type": "stream",
     "text": [
      "ProjectID\n",
      "BuildingID\n",
      "AffordabilityBand\n",
      "TotalUnits\n"
     ]
    }
   ],
   "source": [
    "for col in LL44_rent_affordability.columns:\n",
    "    print(col)"
   ]
  },
  {
   "cell_type": "code",
   "execution_count": null,
   "id": "8af5cf37",
   "metadata": {},
   "outputs": [],
   "source": []
  }
 ],
 "metadata": {
  "kernelspec": {
   "display_name": "Python 3 (ipykernel)",
   "language": "python",
   "name": "python3"
  },
  "language_info": {
   "codemirror_mode": {
    "name": "ipython",
    "version": 3
   },
   "file_extension": ".py",
   "mimetype": "text/x-python",
   "name": "python",
   "nbconvert_exporter": "python",
   "pygments_lexer": "ipython3",
   "version": "3.8.5"
  }
 },
 "nbformat": 4,
 "nbformat_minor": 5
}
